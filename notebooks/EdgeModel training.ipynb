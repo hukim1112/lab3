{
 "cells": [
  {
   "cell_type": "code",
   "execution_count": null,
   "id": "470e2a01",
   "metadata": {},
   "outputs": [],
   "source": [
    "%load_ext autoreload\n",
    "%autoreload 2\n",
    "%config Completer.use_jedi = False"
   ]
  },
  {
   "cell_type": "code",
   "execution_count": null,
   "id": "38b9a628",
   "metadata": {},
   "outputs": [],
   "source": [
    "import os\n",
    "import cv2\n",
    "import random\n",
    "import numpy as np\n",
    "import torch\n",
    "import argparse\n",
    "\n",
    "from edge_connect.src.config import Config\n",
    "from edge_connect.src.edge_connect import EdgeConnect"
   ]
  },
  {
   "cell_type": "code",
   "execution_count": null,
   "id": "2481f377",
   "metadata": {},
   "outputs": [],
   "source": [
    "os.environ['CUDA_VISIBLE_DEVICES'] = ','.join(str(e) for e in [0])"
   ]
  },
  {
   "cell_type": "code",
   "execution_count": null,
   "id": "d717a8be",
   "metadata": {},
   "outputs": [],
   "source": [
    "import os\n",
    "import yaml\n",
    "class Config(dict):\n",
    "    def __init__(self, config_path):\n",
    "        with open(config_path, 'r') as f:\n",
    "            self._yaml = f.read()\n",
    "            self._dict = yaml.safe_load(self._yaml)\n",
    "            self._dict['PATH'] = os.path.dirname(config_path)\n",
    "\n",
    "    def __getattr__(self, name):\n",
    "        if self._dict.get(name) is not None:\n",
    "            return self._dict[name]\n",
    "\n",
    "        if DEFAULT_CONFIG.get(name) is not None:\n",
    "            return DEFAULT_CONFIG[name]\n",
    "\n",
    "        return None\n",
    "\n",
    "    def print(self):\n",
    "        print('Model configurations:')\n",
    "        print('---------------------------------')\n",
    "        print(self._yaml)\n",
    "        print('')\n",
    "        print('---------------------------------')\n",
    "        print('')\n",
    "\n",
    "\n",
    "DEFAULT_CONFIG = {\n",
    "    'MODE': 1,                      # 1: train, 2: test, 3: eval\n",
    "    'MODEL': 1,                     # 1: edge model, 2: inpaint model, 3: edge-inpaint model, 4: joint model\n",
    "    'MASK': 3,                      # 1: random block, 2: half, 3: external, 4: (external, random block), 5: (external, random block, half)\n",
    "    'EDGE': 1,                      # 1: canny, 2: external\n",
    "    'NMS': 1,                       # 0: no non-max-suppression, 1: applies non-max-suppression on the external edges by multiplying by Canny\n",
    "    'SEED': 10,                     # random seed\n",
    "    'GPU': [0],                     # list of gpu ids\n",
    "    'DEBUG': 0,                     # turns on debugging mode\n",
    "    'VERBOSE': 0,                   # turns on verbose mode in the output console\n",
    "\n",
    "    'LR': 0.0001,                   # learning rate\n",
    "    'D2G_LR': 0.1,                  # discriminator/generator learning rate ratio\n",
    "    'BETA1': 0.0,                   # adam optimizer beta1\n",
    "    'BETA2': 0.9,                   # adam optimizer beta2\n",
    "    'BATCH_SIZE': 8,                # input batch size for training\n",
    "    'INPUT_SIZE': 256,              # input image size for training 0 for original size\n",
    "    'SIGMA': 2,                     # standard deviation of the Gaussian filter used in Canny edge detector (0: random, -1: no edge)\n",
    "    'MAX_ITERS': 2e6,               # maximum number of iterations to train the model\n",
    "\n",
    "    'EDGE_THRESHOLD': 0.5,          # edge detection threshold\n",
    "    'L1_LOSS_WEIGHT': 1,            # l1 loss weight\n",
    "    'FM_LOSS_WEIGHT': 10,           # feature-matching loss weight\n",
    "    'STYLE_LOSS_WEIGHT': 1,         # style loss weight\n",
    "    'CONTENT_LOSS_WEIGHT': 1,       # perceptual loss weight\n",
    "    'INPAINT_ADV_LOSS_WEIGHT': 0.01,# adversarial loss weight\n",
    "\n",
    "    'GAN_LOSS': 'nsgan',            # nsgan | lsgan | hinge\n",
    "    'GAN_POOL_SIZE': 0,             # fake images pool size\n",
    "\n",
    "    'SAVE_INTERVAL': 1000,          # how many iterations to wait before saving model (0: never)\n",
    "    'SAMPLE_INTERVAL': 1000,        # how many iterations to wait before sampling (0: never)\n",
    "    'SAMPLE_SIZE': 12,              # number of images to sample\n",
    "    'EVAL_INTERVAL': 0,             # how many iterations to wait before model evaluation (0: never)\n",
    "    'LOG_INTERVAL': 10,             # how many iterations to wait before logging training status (0: never)\n",
    "}"
   ]
  },
  {
   "cell_type": "code",
   "execution_count": null,
   "id": "ce14c66a",
   "metadata": {},
   "outputs": [],
   "source": [
    "config = Config(\"edge_connect/config.yml.example\")"
   ]
  },
  {
   "cell_type": "code",
   "execution_count": null,
   "id": "e4019857",
   "metadata": {},
   "outputs": [],
   "source": [
    "if torch.cuda.is_available():\n",
    "    config.DEVICE = torch.device(\"cuda\")\n",
    "    torch.backends.cudnn.benchmark = True   # cudnn auto-tuner\n",
    "else:\n",
    "    config.DEVICE = torch.device(\"cpu\")\n",
    "# set cv2 running threads to 1 (prevents deadlocks with pytorch dataloader)\n",
    "cv2.setNumThreads(0)\n",
    "\n",
    "# initialize random seed\n",
    "SEED = 10\n",
    "torch.manual_seed(SEED)\n",
    "torch.cuda.manual_seed_all(SEED)\n",
    "np.random.seed(SEED)\n",
    "random.seed(SEED)"
   ]
  },
  {
   "cell_type": "code",
   "execution_count": null,
   "id": "ab26d517",
   "metadata": {},
   "outputs": [],
   "source": [
    "from edge_connect.src.edge_model import EdgeRunner"
   ]
  },
  {
   "cell_type": "code",
   "execution_count": null,
   "id": "9f4a1b54",
   "metadata": {},
   "outputs": [],
   "source": [
    "config.TRAIN_FLIST = \"./edge_connect/datasets/places_train.flist\"\n",
    "config.VAL_FLIST = \"./edge_connect/datasets/places_val.flist\"\n",
    "config.TEST_FLIST = \"./edge_connect/datasets/places_test.flist\""
   ]
  },
  {
   "cell_type": "code",
   "execution_count": null,
   "id": "98eb22c0",
   "metadata": {},
   "outputs": [],
   "source": [
    "config.MASK = 1"
   ]
  },
  {
   "cell_type": "code",
   "execution_count": null,
   "id": "818a6f7d",
   "metadata": {},
   "outputs": [],
   "source": [
    "# build the model and initialize\n",
    "model = EdgeConnect(config)\n",
    "model.load()"
   ]
  },
  {
   "cell_type": "code",
   "execution_count": null,
   "id": "6900f65c",
   "metadata": {},
   "outputs": [],
   "source": [
    "model.edge_model"
   ]
  },
  {
   "cell_type": "code",
   "execution_count": null,
   "id": "6744864c",
   "metadata": {},
   "outputs": [],
   "source": [
    "# model training\n",
    "if config.MODE == 1:\n",
    "    config.print()\n",
    "    print('\\nstart training...\\n')\n",
    "    model.train()"
   ]
  },
  {
   "cell_type": "code",
   "execution_count": null,
   "id": "939e23f0",
   "metadata": {},
   "outputs": [],
   "source": [
    "# model test\n",
    "elif config.MODE == 2:\n",
    "    print('\\nstart testing...\\n')\n",
    "    model.test()\n",
    "\n"
   ]
  },
  {
   "cell_type": "code",
   "execution_count": null,
   "id": "48ab03c3",
   "metadata": {},
   "outputs": [],
   "source": [
    "# eval mode\n",
    "else:\n",
    "    print('\\nstart eval...\\n')\n",
    "    model.eval()"
   ]
  },
  {
   "cell_type": "code",
   "execution_count": null,
   "id": "c78a4aa2",
   "metadata": {},
   "outputs": [],
   "source": []
  }
 ],
 "metadata": {
  "kernelspec": {
   "display_name": "Python 3 (ipykernel)",
   "language": "python",
   "name": "python3"
  },
  "language_info": {
   "codemirror_mode": {
    "name": "ipython",
    "version": 3
   },
   "file_extension": ".py",
   "mimetype": "text/x-python",
   "name": "python",
   "nbconvert_exporter": "python",
   "pygments_lexer": "ipython3",
   "version": "3.7.11"
  }
 },
 "nbformat": 4,
 "nbformat_minor": 5
}
