{
 "cells": [
  {
   "cell_type": "code",
   "execution_count": 1,
   "id": "2b9db8fe",
   "metadata": {},
   "outputs": [],
   "source": [
    "%load_ext autoreload\n",
    "%autoreload 2\n",
    "%config Completer.use_jedi = False"
   ]
  },
  {
   "cell_type": "code",
   "execution_count": 2,
   "id": "63f7ecc9",
   "metadata": {},
   "outputs": [],
   "source": [
    "import os, sys\n",
    "import torch\n",
    "from imageio import imread\n",
    "from matplotlib import pyplot as plt\n",
    "import numpy as np\n",
    "from models.EdgeModel import EdgeCompleter, ConfigManager\n",
    "os.environ[\"CUDA_VISIBLE_DEVICES\"]= \"0\"  # Set the GPU 2 to use\n",
    "sys.path.append(\"/home/files\")"
   ]
  },
  {
   "cell_type": "code",
   "execution_count": 3,
   "id": "906246bb",
   "metadata": {},
   "outputs": [],
   "source": [
    "#data load\n",
    "from datasets.StanfordOnlineProducts import load_flist\n",
    "from datasets.irregular_masks import load_mask_flist\n",
    "from data.EdgeData import MaskedEdgeDataset"
   ]
  },
  {
   "cell_type": "code",
   "execution_count": 4,
   "id": "28bbdbee",
   "metadata": {},
   "outputs": [],
   "source": [
    "X, Y = load_flist(split='train')\n",
    "masks = load_mask_flist(split='train')"
   ]
  },
  {
   "cell_type": "code",
   "execution_count": 5,
   "id": "24613976",
   "metadata": {},
   "outputs": [],
   "source": [
    "# train_x, train_y = X[:5000], Y[:5000]\n",
    "# val_x, val_y = X[5000:5500], Y[5000:5500]\n",
    "train_x, train_y = X[:50000], Y[:50000]\n",
    "val_x, val_y = X[50000:], Y[50000:]\n",
    "train_ds = MaskedEdgeDataset(train_x, irregular_mask_flist=masks).create_iterator()\n",
    "val_ds = MaskedEdgeDataset(val_x, irregular_mask_flist=masks).create_iterator()"
   ]
  },
  {
   "cell_type": "code",
   "execution_count": 6,
   "id": "976840fb",
   "metadata": {},
   "outputs": [],
   "source": [
    "config = ConfigManager()\n",
    "config.GPU = [0]\n",
    "config.GAN_LOSS = \"hinge\"\n",
    "edge_completer = EdgeCompleter(config)"
   ]
  },
  {
   "cell_type": "code",
   "execution_count": 7,
   "id": "cb09b9cd",
   "metadata": {},
   "outputs": [],
   "source": [
    "from utils.train import EarlyStopping, TensorBoard\n",
    "prj_path = \"/home/files/lab/experiments/EdgeCompleter/exp2_only_irregular_mask\"\n",
    "tensorboard = TensorBoard(path=prj_path)\n",
    "edge_completer.exp_path = prj_path"
   ]
  },
  {
   "cell_type": "code",
   "execution_count": null,
   "id": "79cf1d36",
   "metadata": {
    "scrolled": true
   },
   "outputs": [
    {
     "name": "stdout",
     "output_type": "stream",
     "text": [
      "10 steps 0.633 secs => gen loss : 0.759, dis_loss : 1.000\n",
      "20 steps 0.638 secs => gen loss : 0.415, dis_loss : 0.999\n",
      "30 steps 0.635 secs => gen loss : 0.256, dis_loss : 1.000\n",
      "40 steps 0.635 secs => gen loss : 0.147, dis_loss : 0.999\n",
      "50 steps 0.637 secs => gen loss : -0.078, dis_loss : 0.999\n"
     ]
    }
   ],
   "source": [
    "for epoch in range(1,1000):\n",
    "    metrics = {}\n",
    "    metrics[\"train\"] = edge_completer.train_steps(train_ds)\n",
    "    metrics['val'] = edge_completer.test_steps(val_ds, epoch)\n",
    "    torch.save({\"generator\" : edge_completer.generator.state_dict(),\n",
    "                \"discriminator\" : edge_completer.discriminator.state_dict()},\n",
    "                f\"{prj_path}/checkpoint-{epoch}.pth\")\n",
    "    tensorboard(metrics, epoch)"
   ]
  },
  {
   "cell_type": "code",
   "execution_count": null,
   "id": "7e9108ed",
   "metadata": {},
   "outputs": [],
   "source": []
  },
  {
   "cell_type": "markdown",
   "id": "cfdf0cb1",
   "metadata": {},
   "source": [
    "# Load"
   ]
  },
  {
   "cell_type": "code",
   "execution_count": null,
   "id": "15d9af40",
   "metadata": {},
   "outputs": [],
   "source": [
    "state_dict = torch.load(f\"{prj_path}/checkpoint-100.pth\")"
   ]
  },
  {
   "cell_type": "code",
   "execution_count": null,
   "id": "a53a3bc5",
   "metadata": {},
   "outputs": [],
   "source": [
    "edge_completer.generator.load_state_dict(state_dict[\"generator\"])\n",
    "edge_completer.discriminator.load_state_dict(state_dict[\"discriminator\"])"
   ]
  },
  {
   "cell_type": "code",
   "execution_count": null,
   "id": "145d311c",
   "metadata": {},
   "outputs": [],
   "source": [
    "items = next(iter(val_ds))"
   ]
  },
  {
   "cell_type": "code",
   "execution_count": null,
   "id": "467de472",
   "metadata": {},
   "outputs": [],
   "source": [
    "images, grays, edges, masks = items"
   ]
  },
  {
   "cell_type": "code",
   "execution_count": null,
   "id": "93743371",
   "metadata": {},
   "outputs": [],
   "source": [
    "images, grays, edges, masks = (item.to(edge_completer.cuda) for item in items)"
   ]
  },
  {
   "cell_type": "code",
   "execution_count": null,
   "id": "363f487f",
   "metadata": {},
   "outputs": [],
   "source": [
    "results = edge_completer.forward(grays, edges, masks)"
   ]
  },
  {
   "cell_type": "code",
   "execution_count": null,
   "id": "d8b1f614",
   "metadata": {},
   "outputs": [],
   "source": [
    "for image, gray, edge, mask, result in zip(images, grays, edges, masks, results):\n",
    "    plt.subplot(1,3,1)\n",
    "    edges_masked = (edge * (1 - mask))\n",
    "    plt.imshow(edges_masked.to(\"cpu\")[0], cmap='gray')\n",
    "    plt.subplot(1,3,2)\n",
    "    plt.imshow(edge.to(\"cpu\")[0], cmap='gray')\n",
    "    plt.subplot(1,3,3)\n",
    "    plt.imshow(result.detach().to(\"cpu\")[0], cmap='gray')\n",
    "    plt.show()"
   ]
  },
  {
   "cell_type": "code",
   "execution_count": null,
   "id": "bb454933",
   "metadata": {},
   "outputs": [],
   "source": [
    "results[0].shape"
   ]
  },
  {
   "cell_type": "code",
   "execution_count": null,
   "id": "770d51ae",
   "metadata": {},
   "outputs": [],
   "source": [
    "plt.imshow(edges_masked.to(\"cpu\")[0])"
   ]
  },
  {
   "cell_type": "code",
   "execution_count": null,
   "id": "9c1d9503",
   "metadata": {},
   "outputs": [],
   "source": []
  }
 ],
 "metadata": {
  "kernelspec": {
   "display_name": "Python 3 (ipykernel)",
   "language": "python",
   "name": "python3"
  },
  "language_info": {
   "codemirror_mode": {
    "name": "ipython",
    "version": 3
   },
   "file_extension": ".py",
   "mimetype": "text/x-python",
   "name": "python",
   "nbconvert_exporter": "python",
   "pygments_lexer": "ipython3",
   "version": "3.7.11"
  }
 },
 "nbformat": 4,
 "nbformat_minor": 5
}
