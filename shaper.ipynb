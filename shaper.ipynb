{
 "cells": [
  {
   "cell_type": "code",
   "execution_count": 1,
   "metadata": {},
   "outputs": [],
   "source": [
    "from data.load_flist import Stanford_Online_Products\n",
    "from data.EdgeData import EdgeDataset\n",
    "from matplotlib import pyplot as plt"
   ]
  },
  {
   "cell_type": "code",
   "execution_count": 3,
   "metadata": {},
   "outputs": [],
   "source": [
    "SOP = Stanford_Online_Products(root_dir=\"/home/files/datasets/StanfordOnlineProducts\")\n",
    "flist = SOP.get_flist()\n",
    "labels = list(map(lambda p : SOP.path2class(p), flist))\n",
    "class2label = list(set(labels))\n",
    "class2label.sort()\n",
    "# class2label :['bicycle', cabinet', 'chair','coffee_maker','fan','kettle','lamp','mug','sofa','stapler','table','toaster']\n",
    "dataset = EdgeDataset(flist=flist, labels=labels, sigma=2.0)\n",
    "image, edge, label = dataset.__getitem__(0)"
   ]
  },
  {
   "cell_type": "code",
   "execution_count": null,
   "metadata": {},
   "outputs": [],
   "source": []
  }
 ],
 "metadata": {
  "kernelspec": {
   "display_name": "Python 3.7.13 ('base')",
   "language": "python",
   "name": "python3"
  },
  "language_info": {
   "codemirror_mode": {
    "name": "ipython",
    "version": 3
   },
   "file_extension": ".py",
   "mimetype": "text/x-python",
   "name": "python",
   "nbconvert_exporter": "python",
   "pygments_lexer": "ipython3",
   "version": "3.7.11"
  },
  "orig_nbformat": 4,
  "vscode": {
   "interpreter": {
    "hash": "d4d1e4263499bec80672ea0156c357c1ee493ec2b1c70f0acce89fc37c4a6abe"
   }
  }
 },
 "nbformat": 4,
 "nbformat_minor": 2
}
